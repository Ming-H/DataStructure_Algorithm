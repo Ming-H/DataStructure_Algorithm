{
 "cells": [
  {
   "cell_type": "code",
   "execution_count": 1,
   "metadata": {},
   "outputs": [
    {
     "name": "stdout",
     "output_type": "stream",
     "text": [
      "gfedcba\n"
     ]
    }
   ],
   "source": [
    "def reversestr(s):\n",
    "    list_s = list(s)\n",
    "    i =0 \n",
    "    j = len(s)-1\n",
    "    while i<j:\n",
    "        list_s[i],list_s[j]=list_s[j], list_s[i]\n",
    "        i += 1\n",
    "        j -= 1\n",
    "    return ''.join(list_s)\n",
    "\n",
    "str = \"abcdefg\"\n",
    "print(reversestr(str))        "
   ]
  },
  {
   "cell_type": "code",
   "execution_count": 3,
   "metadata": {},
   "outputs": [
    {
     "name": "stdout",
     "output_type": "stream",
     "text": [
      "18\n"
     ]
    }
   ],
   "source": [
    "def maxproduct(L):\n",
    "    tmp = L[-1]\n",
    "    M = [0 for i in range(len(L))]\n",
    "    N = [0 for i in range(len(L))]\n",
    "    for i in range(len(L)):\n",
    "        if i==0:\n",
    "            M[i] = L[i]\n",
    "            N[i] = L[i]\n",
    "        else:\n",
    "            M[i] = max(M[i-1]*L[i], N[i-1]*L[i], L[i])\n",
    "            N[i] = min(M[i-1]*L[i], N[i-1]*L[i], L[i])\n",
    "        tmp = max(tmp, M[i])\n",
    "    return tmp\n",
    "nums = [-2,0,-1,-3,6]\n",
    "print(maxproduct(nums))"
   ]
  },
  {
   "cell_type": "code",
   "execution_count": 5,
   "metadata": {},
   "outputs": [
    {
     "name": "stdout",
     "output_type": "stream",
     "text": [
      "aba\n"
     ]
    }
   ],
   "source": [
    "def longs(s):\n",
    "    maxl = 0\n",
    "    start = 0\n",
    "    for i in range(len(s)):\n",
    "        if i-maxl>=1 and s[i-maxl-1: i+1] == s[i-maxl-1: i+1][::-1]:\n",
    "            start = i-maxl-1\n",
    "            maxl += 2\n",
    "        if i-maxl>=0 and s[i-maxl: i+1] == s[i-maxl: i+1][::-1]:\n",
    "            start = i-maxl\n",
    "            maxl += 1\n",
    "    return s[start: start+maxl]\n",
    "    \n",
    "print(longs(\"abacdns\"))"
   ]
  },
  {
   "cell_type": "code",
   "execution_count": 10,
   "metadata": {},
   "outputs": [
    {
     "name": "stdout",
     "output_type": "stream",
     "text": [
      "abc\n"
     ]
    }
   ],
   "source": [
    "def lcs(str1, str2):\n",
    "    if len(str1)==0 and len(str2)==0:\n",
    "        return 0\n",
    "    dp = [[0 for _ in range(len(str2)+1)] for _ in range(len(str1)+1)]\n",
    "    lcs_str = \"\"\n",
    "    max_len = 0\n",
    "    for i in range(1, len(str1)+1):\n",
    "        for j in range(1, len(str2)+1):\n",
    "            if str1[i-1] == str2[j-1]:\n",
    "                dp[i][j] = dp[i-1][j-1] + 1\n",
    "                max_len = max(max_len, dp[i][j])\n",
    "                if max_len == dp[i][j]:\n",
    "                    lcs_str = str1[i-max_len: i]\n",
    "            else:\n",
    "                dp[i][j] = 0\n",
    "    return lcs_str\n",
    "\n",
    "print(lcs(\"abcbsbbsb\", \"abcj;kladj;l\"))\n",
    "                "
   ]
  },
  {
   "cell_type": "code",
   "execution_count": 14,
   "metadata": {
    "scrolled": true
   },
   "outputs": [
    {
     "name": "stdout",
     "output_type": "stream",
     "text": [
      "C\n",
      "B\n",
      "D\n",
      "B\n"
     ]
    }
   ],
   "source": [
    "def lcs(a, b):\n",
    "    c = [[0 for i in range(len(b)+1)] for j in range(len(a)+1)]\n",
    "    flag = [[0 for i in range(len(b)+1)] for j in range(len(a)+1)]\n",
    "    for i in range(len(a)):\n",
    "        for j in range(len(b)):\n",
    "            if a[i]==b[j]:\n",
    "                c[i+1][j+1] = c[i][j] + 1\n",
    "                flag[i+1][j+1] = 'ok'\n",
    "            elif c[i+1][j]>c[i][j+1]:\n",
    "                c[i+1][j+1] = c[i+1][j]\n",
    "                flag[i+1][j+1] = 'left'\n",
    "            else:\n",
    "                c[i+1][j+1] = c[i][j+1]\n",
    "                flag[i+1][j+1] = 'up'\n",
    "    return flag\n",
    "\n",
    "def printlcs(flag, a, i, j):\n",
    "    if i==0 and j==0:\n",
    "        return \n",
    "    if flag[i][j] == 'ok':\n",
    "        printlcs(flag, a, i-1, j-1)\n",
    "        print(a[i])\n",
    "    elif flag[i][j] == 'left':\n",
    "        printlcs(flag, a, i, j-1)\n",
    "    else:\n",
    "        printlcs(flag, a, i-1, j)\n",
    "        \n",
    "a='ABCBDAB'\n",
    "b='BDCABA'\n",
    "flag=lcs(a,b)\n",
    "\n",
    "printlcs(flag,a,len(a),len(b))                     "
   ]
  },
  {
   "cell_type": "code",
   "execution_count": 29,
   "metadata": {},
   "outputs": [
    {
     "name": "stdout",
     "output_type": "stream",
     "text": [
      "2\n"
     ]
    }
   ],
   "source": [
    "def edit(str1, str2):\n",
    "    matrix = [[0 for i in range(len(str2)+1)] for j in range(len(str1)+1)]\n",
    "    for i in range(1, len(str1)+1):\n",
    "        for j in range(1, len(str2)+1):\n",
    "            if str1[i-1]==str2[j-1]:\n",
    "                d = 0\n",
    "            else:\n",
    "                d = 1\n",
    "            matrix[i][j] = min(matrix[i-1][j]+1, matrix[i][j-1]+1, matrix[i-1][j-1]+d)\n",
    "    return matrix[len(str1)][len(str2)]\n",
    "\n",
    "print(edit('abc', 'cba'))"
   ]
  },
  {
   "cell_type": "code",
   "execution_count": 39,
   "metadata": {},
   "outputs": [
    {
     "name": "stdout",
     "output_type": "stream",
     "text": [
      "220\n"
     ]
    }
   ],
   "source": [
    "def solve(vlist, wlist, totalWeight, totalLength):\n",
    "    resArr = [0 for i in range(totalWeight+1)]\n",
    "    for i in range(1, totalLength+1):\n",
    "        for j in range(totalWeight, 0, -1):\n",
    "            if wlist[i] <= j:\n",
    "                resArr[j] = max(resArr[j], resArr[j-wlist[i]]+vlist[i])\n",
    "    return resArr[-1]\n",
    "v = [0,60,100,120]\n",
    "w = [0,10,20,30]\n",
    "weight = 50\n",
    "n = 3 \n",
    "print(solve(v,w,weight,n))"
   ]
  },
  {
   "cell_type": "code",
   "execution_count": 42,
   "metadata": {},
   "outputs": [
    {
     "name": "stdout",
     "output_type": "stream",
     "text": [
      "[5, 7, 8, 9, 11]\n"
     ]
    }
   ],
   "source": [
    "def qselect(L, k):\n",
    "    if len(L)<k:\n",
    "        return L\n",
    "    pivot = L[-1]\n",
    "    right = [pivot] + [item for item in L[:-1] if item>=pivot]\n",
    "    if len(right)==k:\n",
    "        return right\n",
    "    elif len(right)>k:\n",
    "        return qselect(right, k)\n",
    "    else:\n",
    "        left = [item for item in L if item<pivot]\n",
    "        return qselect(left, k-len(right))+ right\n",
    "print(qselect([11,8,4,1,5,2,7,9], 5))"
   ]
  },
  {
   "cell_type": "code",
   "execution_count": 44,
   "metadata": {},
   "outputs": [],
   "source": [
    "def test_heap(ary, k):\n",
    "    \n",
    "    def siftdown(ary, begin, end):\n",
    "        i,j = begin, begin*2+1\n",
    "        while j < end:\n",
    "            if j+1 < end and ary[j+1] < ary[j]:  \n",
    "                j += 1\n",
    "            if ary[i] < ary[j]:  \n",
    "                break\n",
    "            ary[i],ary[j] = ary[j],ary[i] \n",
    "            i,j = j,j*2+1\n",
    "\n",
    "    end = len(ary)\n",
    "    for i in range(end//2-1, -1, -1):\n",
    "        siftdown(ary,i, end)\n",
    "    print('小顶堆',ary)\n",
    "    \n",
    "    li = []\n",
    "    for i in range(k):\n",
    "        if len(ary) > i:\n",
    "            li.append(ary[0]) \n",
    "            ary[end - 1 - i],ary[0] = ary[0],ary[end-1-i] \n",
    "            siftdown(ary, 0, end-1-i)  \n",
    "        else:\n",
    "            break\n",
    "    return li"
   ]
  },
  {
   "cell_type": "code",
   "execution_count": 45,
   "metadata": {},
   "outputs": [],
   "source": [
    "def shiftdown(ary, begin, end):\n",
    "    i,j=begin,begin*2+1\n",
    "    while j<end:\n",
    "        if j+1<end and ary[j+1]<ary[j]:\n",
    "            j+=1\n",
    "        if ary[i]<ary[j]:\n",
    "            break\n",
    "        ary[i], ary[j] = ary[j], ary[i]\n",
    "        i, j = j, j*2+1\n",
    "            \n",
    "def test_heap(ary, k):\n",
    "    end = len(ary)\n",
    "    for i in range(end//2-1, -1, -1):\n",
    "        shiftdown(ary, i, end)\n",
    "    \n",
    "    li = []\n",
    "    for i in range(k):\n",
    "        if len(ary)>i:\n",
    "            li.append(ary[0])\n",
    "            ary[end-1-i], ary[0] = ary[0], ary[end-1-i]\n",
    "            shiftdown(ary, 0, end-1-i)\n",
    "        else:\n",
    "            break\n",
    "    return li"
   ]
  }
 ],
 "metadata": {
  "kernelspec": {
   "display_name": "Python 3",
   "language": "python",
   "name": "python3"
  },
  "language_info": {
   "codemirror_mode": {
    "name": "ipython",
    "version": 3
   },
   "file_extension": ".py",
   "mimetype": "text/x-python",
   "name": "python",
   "nbconvert_exporter": "python",
   "pygments_lexer": "ipython3",
   "version": "3.7.3"
  }
 },
 "nbformat": 4,
 "nbformat_minor": 2
}
