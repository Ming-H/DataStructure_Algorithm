{
 "cells": [
  {
   "cell_type": "code",
   "execution_count": 1,
   "metadata": {},
   "outputs": [],
   "source": [
    "def ps(L):\n",
    "    for i in range(len(L)-1):\n",
    "        for j in range(len(L)-1-i):\n",
    "            if L[j]>L[j+1]:\n",
    "                L[j], L[j+1]=L[j+1],L[j]\n",
    "    return L"
   ]
  },
  {
   "cell_type": "code",
   "execution_count": 2,
   "metadata": {},
   "outputs": [],
   "source": [
    "def insert_sort(L):\n",
    "    for i in range(1, len(L)):\n",
    "        tmp = L[i]\n",
    "        j = i-1\n",
    "        while j>=0 and L[j]>tmp:\n",
    "            L[j+1] = L[j]\n",
    "            j -= 1\n",
    "        L[j+1] = tmp\n",
    "    return L"
   ]
  },
  {
   "cell_type": "code",
   "execution_count": 3,
   "metadata": {},
   "outputs": [],
   "source": [
    "def insertS(L):\n",
    "    for i in range(1, len(L)):\n",
    "        tmp = L[i]\n",
    "        j = i - 1\n",
    "        while j>=0 and L[j]>tmp:\n",
    "            L[j+1] = L[j]\n",
    "            j -= 1\n",
    "        L[j+1] = tmp\n",
    "    return L"
   ]
  },
  {
   "cell_type": "code",
   "execution_count": 4,
   "metadata": {},
   "outputs": [],
   "source": [
    "def binary_search(L, target):\n",
    "    i = 0\n",
    "    j = len(L)-1\n",
    "    while i<=j:\n",
    "        mid = (i+j)//2\n",
    "        if L[mid]<target:\n",
    "            i = mid+1\n",
    "        elif L[mid]>target:\n",
    "            j = mid-1\n",
    "        else:\n",
    "            return mid\n",
    "    return None"
   ]
  },
  {
   "cell_type": "code",
   "execution_count": 6,
   "metadata": {},
   "outputs": [],
   "source": [
    "def reverse(str):\n",
    "    str_list = list(str)\n",
    "    i = 0\n",
    "    j = len(str)-1\n",
    "    while i<j:\n",
    "        str_list[i], str_list[j] = str_list[j], str_list[i]\n",
    "        i += 1\n",
    "        j -= 1\n",
    "    return ''.join(str_list)"
   ]
  },
  {
   "cell_type": "code",
   "execution_count": 2,
   "metadata": {},
   "outputs": [],
   "source": [
    "def maxmin(L):\n",
    "    tmp = L[0]\n",
    "    M = [0 for i in range(len(L))]\n",
    "    N = [0 for i in range(len(L))]\n",
    "    for i in range(len(L)-1):\n",
    "        if i==0:\n",
    "            M[i] = L[i]\n",
    "            N[i] = L[i]\n",
    "        else:\n",
    "            M[i+1] = max(M[i]*L[i], N[i]*L[i], L[i])\n",
    "            N[i+1] = min(M[i]*L[i], N[i]*L[i], L[i])\n",
    "        tmp = max(tmp, M[i+1])\n",
    "    return tmp"
   ]
  },
  {
   "cell_type": "code",
   "execution_count": 3,
   "metadata": {},
   "outputs": [
    {
     "name": "stdout",
     "output_type": "stream",
     "text": [
      "3\n"
     ]
    }
   ],
   "source": [
    "def minDistance(word1, word2):  \n",
    "    l1, l2 = len(word1)+1, len(word2)+1\n",
    "    pre = [i for i in range(l2)]\n",
    "    for i in range(1, l1):\n",
    "        cur = [i]*l2\n",
    "        for j in range(1, l2):\n",
    "            cur[j] = min(cur[j-1]+1, pre[j]+1, \n",
    "                    pre[j-1]+(word1[i-1]!=word2[j-1]))\n",
    "        pre = cur[:]\n",
    "    return pre[-1]\n",
    "print(minDistance('ofailing','osailn'))"
   ]
  },
  {
   "cell_type": "code",
   "execution_count": 12,
   "metadata": {},
   "outputs": [
    {
     "name": "stdout",
     "output_type": "stream",
     "text": [
      "cur [1, 1, 1, 1, 1, 1, 1]\n",
      "pre [0, 1, 2, 3, 4, 5, 6]\n",
      "cur [1, 0, 1, 2, 3, 4, 5]\n",
      "cur [2, 2, 2, 2, 2, 2, 2]\n",
      "pre [1, 0, 1, 2, 3, 4, 5]\n",
      "cur [2, 1, 1, 2, 3, 4, 5]\n",
      "cur [3, 3, 3, 3, 3, 3, 3]\n",
      "pre [2, 1, 1, 2, 3, 4, 5]\n",
      "cur [3, 2, 2, 1, 2, 3, 4]\n",
      "cur [4, 4, 4, 4, 4, 4, 4]\n",
      "pre [3, 2, 2, 1, 2, 3, 4]\n",
      "cur [4, 3, 3, 2, 1, 2, 3]\n",
      "cur [5, 5, 5, 5, 5, 5, 5]\n",
      "pre [4, 3, 3, 2, 1, 2, 3]\n",
      "cur [5, 4, 4, 3, 2, 1, 2]\n",
      "cur [6, 6, 6, 6, 6, 6, 6]\n",
      "pre [5, 4, 4, 3, 2, 1, 2]\n",
      "cur [6, 5, 5, 4, 3, 2, 2]\n",
      "cur [7, 7, 7, 7, 7, 7, 7]\n",
      "pre [6, 5, 5, 4, 3, 2, 2]\n",
      "cur [7, 6, 6, 5, 4, 3, 2]\n",
      "cur [8, 8, 8, 8, 8, 8, 8]\n",
      "pre [7, 6, 6, 5, 4, 3, 2]\n",
      "cur [8, 7, 7, 6, 5, 4, 3]\n",
      "3\n"
     ]
    }
   ],
   "source": [
    "def minD(str1, str2):\n",
    "    pre = [i for i in range(len(str2)+1)]\n",
    "    for i in range(1, len(str1)+1):\n",
    "        cur = [i]*(len(str2)+1)\n",
    "        print('cur', cur)\n",
    "        for j in range(1, len(str2)+1):\n",
    "            cur[j] = min(cur[j-1]+1, pre[j]+1,\n",
    "                        pre[j-1]+(str1[i-1]!=str2[j-1]))\n",
    "        \n",
    "        print('pre', pre)\n",
    "        print('cur', cur)\n",
    "        pre = cur[:]\n",
    "        \n",
    "        \n",
    "    return pre[-1]\n",
    "\n",
    "print(minD('ofailing','osailn'))"
   ]
  },
  {
   "cell_type": "code",
   "execution_count": 13,
   "metadata": {},
   "outputs": [],
   "source": [
    "def minD(str1, str2):\n",
    "    pre = [i for i in range(len(str2)+1)]\n",
    "    for i in range(1, len(str1)+1):\n",
    "        cur = [i]*(len(str2)+1)\n",
    "        for j in range(1, len(str2)+1):\n",
    "            cur[j] = min(cur[j-1]+1, pre[j]+1,\n",
    "                        pre[j-1]+(str1[i-1]!=str2[j-1]))\n",
    "        pre = cur[:]\n",
    "    return pre[-1]"
   ]
  },
  {
   "cell_type": "code",
   "execution_count": 16,
   "metadata": {},
   "outputs": [],
   "source": [
    "def minD(str1, str2):\n",
    "    pre = [i for i in range(len(str2)+1)]\n",
    "    for i in range(1, len(str1)+1):\n",
    "        cur = [i for j in range(len(str2)+1)]\n",
    "        for j in range(1, len(str2)+1):\n",
    "            cur[j] = min(cur[j-1]+1, pre[j]+1,\n",
    "                        pre[j-1]+(str1[i-1]!=str2[j-1]))\n",
    "        pre = cur[:]\n",
    "    return pre[-1]"
   ]
  },
  {
   "cell_type": "code",
   "execution_count": 46,
   "metadata": {},
   "outputs": [
    {
     "name": "stdout",
     "output_type": "stream",
     "text": [
      "B\n",
      "C\n",
      "B\n",
      "A\n"
     ]
    }
   ],
   "source": [
    "def lcs(str1,str2):\n",
    "    c = [[0 for i in range(len(str2)+1)] for j in range(len(str1)+1)]\n",
    "    flag = [[0 for i in range(len(str2)+1)] for j in range(len(str1)+1)]\n",
    "    for i in range(len(str1)):\n",
    "        for j in range(len(str2)):\n",
    "            if str1[i] == str2[j]:\n",
    "                c[i+1][j+1] = c[i][j]+1\n",
    "                flag[i+1][j+1] = 'ok'\n",
    "            elif c[i+1][j]>c[i][j+1]:\n",
    "                c[i+1][j+1] = c[i+1][j]\n",
    "                flag[i+1][j+1] = 'left'\n",
    "            else:\n",
    "                c[i+1][j+1] = c[i][j+1]\n",
    "                flag[i+1][j+1] = 'up'\n",
    "    return flag\n",
    "\n",
    "def printlcs(flag, str1, i, j):\n",
    "    if i==0 or j==0:\n",
    "        return \n",
    "    if flag[i][j] == 'ok':\n",
    "        printlcs(flag, str1, i-1, j-1)\n",
    "        print(str1[i-1])\n",
    "    elif flag[i][j] == 'left':\n",
    "        printlcs(flag, str1, i, j-1)\n",
    "    else:\n",
    "        printlcs(flag, str1, i-1, j)\n",
    "        \n",
    "a='ABCBDAB'\n",
    "b='BDCABA'\n",
    "flag=lcs(a,b)\n",
    "\n",
    "printlcs(flag,a,len(a),len(b))    \n",
    "                \n",
    "                "
   ]
  },
  {
   "cell_type": "code",
   "execution_count": 47,
   "metadata": {},
   "outputs": [],
   "source": [
    "def lcs(str_a, str_b):\n",
    "    if len(str_a) ==0 or len(str_b) == 0:\n",
    "        return 0\n",
    "    dp = [[0 for _ in range(len(str_b)+1)] for _ in range(len(str_a)+1)]\n",
    "    max_len = 0\n",
    "    lcs_str = \"\"\n",
    "    for i in range(1, len(str_a)+1):\n",
    "        for j in range(1, len(str_b)+1):\n",
    "            if str_a[i-1] == str_b[j-1]:\n",
    "                dp[i][j] = dp[i-1][j-1] + 1\n",
    "                max_len = max(max_len, dp[i][j])\n",
    "                if max_len == dp[i][j]:\n",
    "                    lcs_str = str_a[i-max_len:i]\n",
    "            else:\n",
    "              dp[i][j] = 0\n",
    "    print(\"length of LCS is :\",max_len)\n",
    "    print(\"LCS :\",lcs_str)\n"
   ]
  },
  {
   "cell_type": "code",
   "execution_count": 57,
   "metadata": {},
   "outputs": [
    {
     "name": "stdout",
     "output_type": "stream",
     "text": [
      "ababa\n"
     ]
    }
   ],
   "source": [
    "def longs(s):\n",
    "    maxl = 0\n",
    "    start = 0\n",
    "    for i in range(len(s)):\n",
    "        if i-maxl>=1 and s[i-maxl-1:i+1]==s[i-maxl-1:i+1][::-1]:\n",
    "            start = i-maxl-1\n",
    "            maxl += 2\n",
    "        if i-maxl>=1 and s[i-maxl:i+1]==s[i-maxl:i+1][::-1]:\n",
    "            start = i-maxl\n",
    "            maxl += 1\n",
    "    return s[start: start+maxl]\n",
    "print(longs(\"abababs\"))"
   ]
  },
  {
   "cell_type": "code",
   "execution_count": 58,
   "metadata": {},
   "outputs": [
    {
     "name": "stdout",
     "output_type": "stream",
     "text": [
      "ababa\n"
     ]
    }
   ],
   "source": [
    "def longs(s):\n",
    "    maxl = 0\n",
    "    start = 0\n",
    "    for i in range(len(s)):\n",
    "        if i-maxl>=1 and s[i-maxl-1:i+1]==s[i-maxl-1:i+1][::-1]:\n",
    "            start = i-maxl-1\n",
    "            maxl += 2\n",
    "        if i-maxl>=0 and s[i-maxl: i+1]==s[i-maxl: i+1][::-1]:\n",
    "            start = i-maxl\n",
    "            maxl += 1\n",
    "    return s[start: start+maxl]\n",
    "print(longs(\"abababs\"))"
   ]
  },
  {
   "cell_type": "code",
   "execution_count": null,
   "metadata": {},
   "outputs": [],
   "source": [
    "def ReverseList(pHead):\n",
    "    if pHead is None:\n",
    "        return pHead\n",
    "    last = None  \n",
    "    while pHead:\n",
    "        tmp = pHead.next\n",
    "        pHead.next = last\n",
    "        last = pHead\n",
    "        pHead = tmp\n",
    "    return last"
   ]
  }
 ],
 "metadata": {
  "kernelspec": {
   "display_name": "Python 3",
   "language": "python",
   "name": "python3"
  },
  "language_info": {
   "codemirror_mode": {
    "name": "ipython",
    "version": 3
   },
   "file_extension": ".py",
   "mimetype": "text/x-python",
   "name": "python",
   "nbconvert_exporter": "python",
   "pygments_lexer": "ipython3",
   "version": "3.7.3"
  }
 },
 "nbformat": 4,
 "nbformat_minor": 2
}
