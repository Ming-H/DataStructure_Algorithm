{
 "cells": [
  {
   "cell_type": "code",
   "execution_count": 15,
   "metadata": {},
   "outputs": [],
   "source": [
    "def qselect(L, k):\n",
    "    if len(L) < k:\n",
    "        return L\n",
    "    pivot = L[-1]\n",
    "    right = [pivot] + [item for item in L[:-1] if item >= pivot]\n",
    "    if len(right)==k:\n",
    "        return right\n",
    "    elif len(right)>k:\n",
    "        return qselect(right, k)\n",
    "    else:\n",
    "        left = [item for item in L if item < pivot]\n",
    "        return qselect(left, k-len(right)) + right"
   ]
  },
  {
   "cell_type": "code",
   "execution_count": 16,
   "metadata": {},
   "outputs": [
    {
     "name": "stdout",
     "output_type": "stream",
     "text": [
      "[5, 7, 8, 9, 11]\n"
     ]
    }
   ],
   "source": [
    "print(qselect([11,8,4,1,5,2,7,9], 5))"
   ]
  },
  {
   "cell_type": "code",
   "execution_count": 23,
   "metadata": {},
   "outputs": [],
   "source": [
    "def twonumsum(nums, target):\n",
    "    d = {}\n",
    "    for i in range(len(nums)):\n",
    "        if target-nums[i] not in d:\n",
    "            d[target-nums[i]] = i\n",
    "        else:\n",
    "            return d[nums[i]], i"
   ]
  },
  {
   "cell_type": "code",
   "execution_count": 24,
   "metadata": {},
   "outputs": [],
   "source": [
    "def towsum2(nums, target):\n",
    "    nums.sort()\n",
    "    i = 0\n",
    "    j = len(nums)-1\n",
    "    while i<j:\n",
    "        if nums[i] + nums[j] == target:\n",
    "            return i, j\n",
    "        elif nums[i] + nums[j] < target:\n",
    "            i += 1\n",
    "        else:\n",
    "            j -= 1\n",
    "    return None"
   ]
  },
  {
   "cell_type": "code",
   "execution_count": 31,
   "metadata": {},
   "outputs": [],
   "source": [
    "def towsum(nums, target):\n",
    "    nums.sort()\n",
    "    result = []\n",
    "    sum_method(nums, 0, [], result, target)\n",
    "    return result\n",
    "\n",
    "def sum_method(nums, start, path, result, target):\n",
    "    if not target:\n",
    "        result.append(path)\n",
    "        return \n",
    "    for i in range(start, len(nums)):\n",
    "        if i>start and nums[i]==nums[i-1]:\n",
    "            continue\n",
    "        if nums[i]>target:\n",
    "            break\n",
    "        sum_method(nums, start+1, path+[nums[i]], result, target-nums[i])"
   ]
  },
  {
   "cell_type": "code",
   "execution_count": 32,
   "metadata": {},
   "outputs": [
    {
     "name": "stdout",
     "output_type": "stream",
     "text": [
      "[[1, 2, 3], [1, 5], [2, 4], [3, 3], [4, 2], [6]]\n"
     ]
    }
   ],
   "source": [
    "print(twosum([1,2,3,4,5,6,7], 6))"
   ]
  },
  {
   "cell_type": "code",
   "execution_count": 33,
   "metadata": {},
   "outputs": [],
   "source": [
    "def sum_method(nums, start, path, result, target):\n",
    "    if not target:\n",
    "        result.append(paht)\n",
    "        return\n",
    "    for i in range(start, len(nums)):\n",
    "        if i>start and nums[i]==nums[i-1]:\n",
    "            continue\n",
    "        if nums[i]>target:\n",
    "            break\n",
    "        sum_method(nums, start+1, path+[nums[i]], result, target-nums[i])    "
   ]
  },
  {
   "cell_type": "code",
   "execution_count": 34,
   "metadata": {},
   "outputs": [],
   "source": [
    "def sum_method(nums, start, path, result, target):\n",
    "    if not target:\n",
    "        path.append(path)\n",
    "        return\n",
    "    for i in range(start, len(nums)):\n",
    "        if i>start and nums[i]==nums[i-1]:\n",
    "            continue\n",
    "        if nums[i]>target:\n",
    "            break\n",
    "        sum_method(nums, start+1, path+[nums[i]], result, target-nums[i])"
   ]
  },
  {
   "cell_type": "code",
   "execution_count": 35,
   "metadata": {},
   "outputs": [],
   "source": [
    "def towsum(nums, target):\n",
    "    nums.sort()\n",
    "    result = []\n",
    "    sum_method(nums, 0, [], result, target)\n",
    "    return result"
   ]
  },
  {
   "cell_type": "code",
   "execution_count": 36,
   "metadata": {},
   "outputs": [],
   "source": [
    "def twosum(nums, target):\n",
    "    nums.sort()\n",
    "    result = []\n",
    "    sum_method(nums, 0, [], result, target)\n",
    "    return result"
   ]
  },
  {
   "cell_type": "code",
   "execution_count": 37,
   "metadata": {},
   "outputs": [],
   "source": [
    "def twosum(nums, target):\n",
    "    nums.sort()\n",
    "    result = []\n",
    "    sum_method(nums, 0, [], result, target)\n",
    "    return result"
   ]
  },
  {
   "cell_type": "code",
   "execution_count": null,
   "metadata": {},
   "outputs": [],
   "source": []
  }
 ],
 "metadata": {
  "kernelspec": {
   "display_name": "Python 3",
   "language": "python",
   "name": "python3"
  },
  "language_info": {
   "codemirror_mode": {
    "name": "ipython",
    "version": 3
   },
   "file_extension": ".py",
   "mimetype": "text/x-python",
   "name": "python",
   "nbconvert_exporter": "python",
   "pygments_lexer": "ipython3",
   "version": "3.7.3"
  }
 },
 "nbformat": 4,
 "nbformat_minor": 2
}
