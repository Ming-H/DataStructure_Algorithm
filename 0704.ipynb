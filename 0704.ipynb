{
 "cells": [
  {
   "cell_type": "code",
   "execution_count": 6,
   "metadata": {},
   "outputs": [],
   "source": [
    "def partitions(num, low, high):\n",
    "    pivot = num[low]\n",
    "    while low<high:\n",
    "        while low<high and num[high]>pivot:\n",
    "            high -= 1\n",
    "        while low<high and num[low]<pivot:\n",
    "            low += 1\n",
    "        num[low], num[high]=num[high], num[low]\n",
    "    num[low] = pivot\n",
    "    return low"
   ]
  },
  {
   "cell_type": "code",
   "execution_count": 10,
   "metadata": {},
   "outputs": [],
   "source": [
    "def qsort(L, low, high):\n",
    "    if low<high:\n",
    "        index = partitions(L, low, high)\n",
    "        qsort(L, index+1, high)\n",
    "        qsort(L, low, index-1)\n",
    "    return L"
   ]
  },
  {
   "cell_type": "code",
   "execution_count": 11,
   "metadata": {},
   "outputs": [],
   "source": [
    "def findkmax(L, low, high, k):\n",
    "    index = partitions(L, low, high)\n",
    "    if index == k:\n",
    "        return L[index]\n",
    "    elif index < k:\n",
    "        return findkmax(L, index+1, high, k)\n",
    "    else:\n",
    "        return findkmax(L, low, index-1)"
   ]
  },
  {
   "cell_type": "code",
   "execution_count": 12,
   "metadata": {},
   "outputs": [
    {
     "name": "stdout",
     "output_type": "stream",
     "text": [
      "[1, 2, 3, 4, 5, 6]\n",
      "4\n"
     ]
    }
   ],
   "source": [
    "pai = [2,3,1,5,4,6]\n",
    " \n",
    "print(qsort(pai, 0, len(pai)-1)) \n",
    "print(findkmax(pai,0,len(pai)-1,3))"
   ]
  },
  {
   "cell_type": "code",
   "execution_count": 15,
   "metadata": {},
   "outputs": [],
   "source": [
    "def gen_pnext(p):\n",
    "    i, k = 0, -1\n",
    "    pnext = [-1 for i in range(len(p))]\n",
    "    while i<len(p)-1:\n",
    "        if k==-1 or p[i]==p[k]:\n",
    "            k, i = k+1, i+1\n",
    "            pnext[i] = k\n",
    "            if p[i] == p[k]:\n",
    "                pnext[i]=pnext[k]\n",
    "        else:\n",
    "            k = pnext[k]\n",
    "    return pnext"
   ]
  },
  {
   "cell_type": "code",
   "execution_count": 16,
   "metadata": {},
   "outputs": [],
   "source": [
    "def match_kmp(t, p, pnext):\n",
    "    i = 0\n",
    "    j = 0\n",
    "    while i<len(t) and j<len(p):\n",
    "        if j==-1 or t[i]==p[j]:\n",
    "            i,j=i+1,j+1\n",
    "        else:\n",
    "            j = pnext[j]\n",
    "    if j==len(p):\n",
    "        return i-j\n",
    "    return -1"
   ]
  },
  {
   "cell_type": "code",
   "execution_count": 17,
   "metadata": {},
   "outputs": [],
   "source": [
    "def gen_pnext(p):\n",
    "    i,k=0,-1\n",
    "    pnext = [-1 for i in range(len(p))]\n",
    "    while i<len(p)-1:\n",
    "        if k==-1 or p[i]==p[k]:\n",
    "            k,i=k+1,i+1\n",
    "            pnext[i]=k\n",
    "            if p[i]==p[k]:\n",
    "                pnext[i]=pnext[k]\n",
    "        else:\n",
    "            k=pnext[k]\n",
    "    return pnext"
   ]
  },
  {
   "cell_type": "code",
   "execution_count": 18,
   "metadata": {},
   "outputs": [],
   "source": [
    "def gen_pnext(p):\n",
    "    i,k=0,-1\n",
    "    pnext = [-1 for i in range(len(p))]\n",
    "    while i<len(p)-1:\n",
    "        if k==-1 or p[i]==p[k]:\n",
    "            k,i=k+1,i+1\n",
    "            pnext[i]=k\n",
    "            if p[i]==p[k]:\n",
    "                pnext[i]=pnext[k]\n",
    "        else:\n",
    "            k=pnext[k]\n",
    "    return pnext"
   ]
  },
  {
   "cell_type": "code",
   "execution_count": 21,
   "metadata": {},
   "outputs": [],
   "source": [
    "def strStr(t, p):\n",
    "    if p==\"\":\n",
    "        return 0\n",
    "    for i in range(len(t)-len(p)+1):\n",
    "        for j in range(len(p)):\n",
    "            if t[i+j]!=p[j]:\n",
    "                break\n",
    "            if j == len(p)-1:\n",
    "                return i\n",
    "    return -1"
   ]
  },
  {
   "cell_type": "code",
   "execution_count": 22,
   "metadata": {},
   "outputs": [
    {
     "name": "stdout",
     "output_type": "stream",
     "text": [
      "11\n"
     ]
    }
   ],
   "source": [
    "T = \"BBC ABCDAB ABCDABCDABDE\"\n",
    "P = \"ABCDABCD\"\n",
    "print(strStr(T, P))"
   ]
  },
  {
   "cell_type": "code",
   "execution_count": 23,
   "metadata": {},
   "outputs": [],
   "source": [
    "def strStr(t, p):\n",
    "    if p==\"\":\n",
    "        return 0\n",
    "    for i in range(len(t)-len(p)+1):\n",
    "        for j in range(len(p)):\n",
    "            if t[i+j]!=p[j]:\n",
    "                break\n",
    "            if j==len(p)-1:\n",
    "                return i\n",
    "    return -1"
   ]
  },
  {
   "cell_type": "code",
   "execution_count": 25,
   "metadata": {},
   "outputs": [],
   "source": [
    "def strStr(t, p):\n",
    "    if p==\"\":\n",
    "        return 0\n",
    "    for i in range(len(t)-len(p)+1):\n",
    "        for j in range(len(p)):\n",
    "            if t[i+j]!=p[j]:\n",
    "                break\n",
    "            if j==len(p)-1:\n",
    "                return i\n",
    "    return -1"
   ]
  },
  {
   "cell_type": "code",
   "execution_count": 26,
   "metadata": {},
   "outputs": [],
   "source": [
    "def strStr(t, p):\n",
    "    if p==\"\":\n",
    "        return 0\n",
    "    for i in range(len(t)-len(p)+1):\n",
    "        for j in range(len(p)):\n",
    "            if t[i+j]!=p[j]:\n",
    "                break\n",
    "            if j==len(p)-1:\n",
    "                return i\n",
    "    return -1"
   ]
  },
  {
   "cell_type": "code",
   "execution_count": 27,
   "metadata": {},
   "outputs": [],
   "source": [
    "def maxmin(l, low, high):\n",
    "    if high-low<=1:\n",
    "        return max(l[low], l[high]), min(l[low], l[high])\n",
    "    \n",
    "    mid = (low+high)//2\n",
    "    left = maxmin(l, low, mid)\n",
    "    right = maxmin(l, mid+1, high)\n",
    "    if left[0]>right[0]:\n",
    "        return left[0], min(left[1], right[1])\n",
    "    else:\n",
    "        return right[0], min(left[1], right[1])\n",
    "    "
   ]
  },
  {
   "cell_type": "code",
   "execution_count": null,
   "metadata": {},
   "outputs": [],
   "source": []
  }
 ],
 "metadata": {
  "kernelspec": {
   "display_name": "Python 3",
   "language": "python",
   "name": "python3"
  },
  "language_info": {
   "codemirror_mode": {
    "name": "ipython",
    "version": 3
   },
   "file_extension": ".py",
   "mimetype": "text/x-python",
   "name": "python",
   "nbconvert_exporter": "python",
   "pygments_lexer": "ipython3",
   "version": "3.7.3"
  }
 },
 "nbformat": 4,
 "nbformat_minor": 2
}
